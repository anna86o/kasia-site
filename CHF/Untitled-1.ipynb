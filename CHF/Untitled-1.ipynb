{
 "cells": [
  {
   "cell_type": "markdown",
   "metadata": {},
   "source": [
    "### Podstawowe typy danych"
   ]
  },
  {
   "cell_type": "code",
   "execution_count": 1,
   "metadata": {},
   "outputs": [
    {
     "name": "stdout",
     "output_type": "stream",
     "text": [
      "10\n",
      "Hello, world\n",
      "True\n",
      "36.6\n",
      "10\n",
      "Hello world\n",
      "Hello, world, world - 36.6 26.6\n"
     ]
    }
   ],
   "source": [
    "age = 10  # int\n",
    "label = \"Hello, world\"  # string\n",
    "is_valid = True  # bool\n",
    "temp = 36.6  # temp\n",
    "number = \"10\"\n",
    "\n",
    "print(age)\n",
    "print(label)\n",
    "print(is_valid)\n",
    "print(temp)\n",
    "print(number)\n",
    "\n",
    "Hello = \"Hello\"\n",
    "world = \"world\"\n",
    "\n",
    "print(Hello, world)\n",
    "\n",
    "print(f\"{label}, {world} - {temp} {temp - age}\")\n"
   ]
  },
  {
   "cell_type": "markdown",
   "metadata": {},
   "source": [
    "\n"
   ]
  }
 ],
 "metadata": {
  "kernelspec": {
   "display_name": "Python 3",
   "language": "python",
   "name": "python3"
  },
  "language_info": {
   "codemirror_mode": {
    "name": "ipython",
    "version": 3
   },
   "file_extension": ".py",
   "mimetype": "text/x-python",
   "name": "python",
   "nbconvert_exporter": "python",
   "pygments_lexer": "ipython3",
   "version": "3.12.2"
  }
 },
 "nbformat": 4,
 "nbformat_minor": 2
}
