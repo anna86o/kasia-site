{
 "cells": [
  {
   "cell_type": "markdown",
   "metadata": {},
   "source": [
    "### Podstawowe typy danych"
   ]
  },
  {
   "cell_type": "code",
   "execution_count": 64,
   "metadata": {},
   "outputs": [
    {
     "name": "stdout",
     "output_type": "stream",
     "text": [
      "10\n",
      "Hello, world\n",
      "True\n",
      "36.6\n",
      "10\n",
      "Hello world\n",
      "Hello, world, world - 36.6 26.6\n"
     ]
    }
   ],
   "source": [
    "age = 10  # int\n",
    "label = \"Hello, world\"  # string\n",
    "is_valid = True  # bool\n",
    "temp = 36.6  # temp\n",
    "number = \"10\"\n",
    "\n",
    "print(age)\n",
    "print(label)\n",
    "print(is_valid)\n",
    "print(temp)\n",
    "print(number)\n",
    "\n",
    "Hello = \"Hello\"\n",
    "world = \"world\"\n",
    "\n",
    "print(Hello, world)\n",
    "\n",
    "print(f\"{label}, {world} - {temp} {temp - age}\")\n"
   ]
  },
  {
   "cell_type": "markdown",
   "metadata": {},
   "source": [
    "### reużywalność zmiennych"
   ]
  },
  {
   "cell_type": "code",
   "execution_count": 65,
   "metadata": {},
   "outputs": [
    {
     "name": "stdout",
     "output_type": "stream",
     "text": [
      "10\n"
     ]
    }
   ],
   "source": [
    "print(age)\n"
   ]
  },
  {
   "cell_type": "markdown",
   "metadata": {},
   "source": [
    "### Konwencje nazywania zmiennych"
   ]
  },
  {
   "cell_type": "code",
   "execution_count": 66,
   "metadata": {},
   "outputs": [
    {
     "name": "stdout",
     "output_type": "stream",
     "text": [
      "10\n"
     ]
    }
   ],
   "source": [
    "bodyTemperature = 36.6\n",
    "BodyTemperature = 36.6\n",
    "body_temperature = 36.6\n",
    "\n",
    "# print = 10 - tego nie robimy bo stracimy funkcję print !!!\n",
    "\n",
    "print(age)  # -> 10(age)"
   ]
  },
  {
   "cell_type": "code",
   "execution_count": 67,
   "metadata": {},
   "outputs": [
    {
     "name": "stdout",
     "output_type": "stream",
     "text": [
      "Hello adult\n"
     ]
    }
   ],
   "source": [
    "# todo check why None is printed ?\n",
    "\n",
    "additional_info = None\n",
    "\n",
    "age = 18\n",
    "\n",
    "if age >= 18:\n",
    "    additional_info = \"adult\"\n",
    "\n",
    "print(f\"Hello {additional_info}\")"
   ]
  },
  {
   "cell_type": "markdown",
   "metadata": {},
   "source": [
    "### Build-in functions"
   ]
  },
  {
   "cell_type": "code",
   "execution_count": 68,
   "metadata": {},
   "outputs": [
    {
     "name": "stdout",
     "output_type": "stream",
     "text": [
      "x = None\n",
      "18\n",
      "x = None\n",
      "y = None\n",
      "y = <class 'int'>\n"
     ]
    }
   ],
   "source": [
    "# print() - ta funkcja nic nie zwraca, tylko wyświetla wynik\n",
    "# type() - zwraca typ zmienniej, ale jej nie wyświetla\n",
    "# id () - zwraca adres zmiennej\n",
    "# sorted() - sortuje podaną kolekcję\n",
    "\n",
    "x = None\n",
    "print(f\"x = {x}\")\n",
    "x = print(age)\n",
    "print(f\"x = {x}\")\n",
    "\n",
    "y = None\n",
    "print(f\"y = {y}\")\n",
    "y = type(age)\n",
    "print(f\"y = {y}\")\n"
   ]
  },
  {
   "cell_type": "code",
   "execution_count": 69,
   "metadata": {},
   "outputs": [
    {
     "ename": "SyntaxError",
     "evalue": "f-string: unmatched '(' (2853188703.py, line 14)",
     "output_type": "error",
     "traceback": [
      "\u001b[1;36m  Cell \u001b[1;32mIn[69], line 14\u001b[1;36m\u001b[0m\n\u001b[1;33m    print(f\"Type y: {type(float(\"3.14\"))}\")\u001b[0m\n\u001b[1;37m                                 ^\u001b[0m\n\u001b[1;31mSyntaxError\u001b[0m\u001b[1;31m:\u001b[0m f-string: unmatched '('\n"
     ]
    }
   ],
   "source": [
    "number_str = \"123\"\n",
    "number_int = int(\"123\")\n",
    "type_of_number_int = type(number_int)\n",
    "print(type_of_number_int)\n",
    "\n",
    "# to samo w dwóch linijkach\n",
    "number_int = int(\"123\")\n",
    "print(f\"Type: {type(number_int)}\")\n",
    "\n",
    "# to samo w jednej linii\n",
    "print(type(int(\"123\")))\n",
    "\n",
    "\n",
    "print(f\"Type y: {type(float(\"3.14\"))}\")\n",
    "print(f\"Type z: {type(str(1337))}\")\n",
    "\n",
    "print(f\"Type y: {type(True)}\")\n",
    "print(f\"Type y: {type(None)}\")\n",
    "\n",
    "\n",
    "# value error\n",
    "# print(int(\"abc\"))\n"
   ]
  },
  {
   "cell_type": "markdown",
   "metadata": {},
   "source": [
    "#### Argumenty funkcji print"
   ]
  },
  {
   "cell_type": "code",
   "execution_count": null,
   "metadata": {},
   "outputs": [
    {
     "name": "stdout",
     "output_type": "stream",
     "text": [
      "Hello world\n",
      "Hello-world+Hello-world+\n",
      "May-the-Force-be-with-you\n",
      "May the Force be with you!"
     ]
    }
   ],
   "source": [
    "# ARGUMENTY\n",
    "\n",
    "print(\"Hello\", \"world\", sep=' ', end='\\n')  # default\n",
    "print(\"Hello\", \"world\", sep='-', end='+')\n",
    "print(\"Hello\", \"world\", sep='-', end='+')\n",
    "\n",
    "print()\n",
    "print(\"May\", \"the\", \"Force\", \"be\", \"with\", \"you\", sep='-')  \n",
    "print(\"May the Force be with you\", end='!')"
   ]
  },
  {
   "cell_type": "markdown",
   "metadata": {},
   "source": [
    "### Struktury Danych "
   ]
  },
  {
   "cell_type": "markdown",
   "metadata": {},
   "source": [
    "#### Listy"
   ]
  },
  {
   "cell_type": "code",
   "execution_count": null,
   "metadata": {},
   "outputs": [
    {
     "name": "stdout",
     "output_type": "stream",
     "text": [
      "1\n",
      "2\n",
      "3\n",
      "Python\n",
      "True\n",
      "1\n",
      "2\n",
      "2\n",
      "[1, 2, 3, 'Python', True, 1, 2]\n",
      "index: 3\n",
      "My list after change: [5.5, 2, 3, 'Python', True, 1, 2]\n",
      "[5.5, 2, 3, 'Python', True, 1, 2, 'Asia']\n",
      "['Asia', 5.5, 2, 3, 'Python', True, 1, 2, 'Asia']\n",
      "[5.5, 2, 3, 'Python', True, 1, 2, 'Asia']\n",
      "[1, 2, 3, 5, 8]\n",
      "[8, 5, 3, 2, 1]\n",
      "8\n",
      "19\n",
      "[1, 2, 3, 4, 5, 6]\n"
     ]
    }
   ],
   "source": [
    "# LISTY\n",
    "\n",
    "my_list = [1, 2, 3, \"Python\", True, 1, 2]\n",
    "type(my_list)\n",
    "\n",
    "\n",
    "# wyswietlanie po indeksach\n",
    "print(my_list[0])\n",
    "print(my_list[1])\n",
    "print(my_list[2])\n",
    "# print(f\"index: {my_list.index('Python')}\")\n",
    "print(my_list[3])  \n",
    "print(my_list[4])  # ...\n",
    "print(my_list[5])  # -2\n",
    "print(my_list[6])  # -1 -> print(my_list[-1]\n",
    "\n",
    "print(my_list[-1])\n",
    "\n",
    "#kolejność jest zachowana\n",
    "print(my_list)\n",
    "\n",
    "my_list[0] = 5.5\n",
    "print(f\"My list after change: {my_list}\")\n",
    "\n",
    "\n",
    "# funkcje wbudowane - operacje na liście \"in place\"\n",
    "\n",
    "my_list.append(\"Asia\")\n",
    "print(my_list)\n",
    "\n",
    "my_list.insert(0, \"Asia\")\n",
    "print(my_list)\n",
    "\n",
    "my_list.remove(\"Asia\")\n",
    "print(my_list)\n",
    "\n",
    "numbers = [5, 2, 8, 1, 3]\n",
    "numbers.sort()\n",
    "print(numbers)\n",
    "\n",
    "numbers.reverse()\n",
    "print(numbers)\n",
    "\n",
    "\n",
    "# funkcje do użycia na liście\n",
    "print(len(my_list))\n",
    "print(sum(numbers))\n",
    "print(min(numbers))\n",
    "print(max(numbers))\n",
    "\n",
    "\n",
    "x = [1, 2, 3]\n",
    "y = [4, 5, 6]\n",
    "z = x + y\n",
    "print(z)\n",
    "\n",
    "# x.extend(y)  # ale wtedy powiększa nam się lista x \n",
    "# print(x)  # 1 2 3 4 5 6 \n"
   ]
  },
  {
   "cell_type": "code",
   "execution_count": null,
   "metadata": {},
   "outputs": [
    {
     "name": "stdout",
     "output_type": "stream",
     "text": [
      "[30, 40, 50]\n",
      "[10, 20, 30, 40]\n",
      "[50, 60, 70, 80]\n",
      "[50, 60, 70, 80]\n",
      "[10, 20, 30, 40, 50, 60, 70, 80]\n",
      "[10, 20, 30, 40, 50, 60, 70, 80]\n",
      "[80, 70, 60, 50, 40, 30, 20, 10]\n",
      "[10, 30, 50, 70]\n",
      "[80, 60, 40, 20]\n",
      "[10, 20, 30, 40, 50, 60, 70]\n",
      "[80]\n",
      "[10]\n",
      "[80]\n"
     ]
    }
   ],
   "source": [
    "numbers = [10, 20, 30, 40, 50, 60, 70, 80] \n",
    "print(numbers[2:5])  # < )\n",
    "print(numbers[:4])  # Output: [10, 20, 30, 40]\n",
    "\n",
    "print(numbers[4:])  # Output: [50, 60, 70, 80]\n",
    "print(numbers[-4:])  # Output: [50, 60, 70, 80]\n",
    "\n",
    "\n",
    "print(numbers[::])\n",
    "print(numbers[::1])\n",
    "print(numbers[::-1])\n",
    "print(numbers[::2])\n",
    "print(numbers[::-2])\n",
    "\n",
    "print(numbers[:-1])  # lista bez ostatniego elementu\n",
    "print(numbers[-1:])  # ostatni element  numbers[-1]\n",
    "print(numbers[:1])   # pierwszy element  numbers[0]\n",
    "print(numbers[-1:])  # ostatni element numebrs[-1]\n",
    "\n",
    "\n",
    "\n"
   ]
  },
  {
   "cell_type": "markdown",
   "metadata": {},
   "source": [
    "#### Tuple"
   ]
  },
  {
   "cell_type": "code",
   "execution_count": 34,
   "metadata": {},
   "outputs": [
    {
     "name": "stdout",
     "output_type": "stream",
     "text": [
      "5\n",
      "3\n",
      "basket:\n",
      "0\n",
      "1\n",
      "2\n",
      "strawberry\n",
      "banana\n",
      "cherry\n",
      "banana\n"
     ]
    }
   ],
   "source": [
    "my_tuple = (\"Asia\", \"Baj\", 30)\n",
    "my_tuple.index(\"Baj\")\n",
    "\n",
    "\n",
    "my_tuple = (1, 1, 1, \"abc\", \"abc\")\n",
    "print(len(my_tuple))\n",
    "print(my_tuple.count(1))\n",
    "\n",
    "\n",
    "print(\"basket:\")\n",
    "\n",
    "fruit_basket = (\"strawberry\", \"banana\", \"cherry\")\n",
    "print(fruit_basket.index(\"strawberry\"))  # Prints: 0\n",
    "print(fruit_basket.index(\"banana\"))  # Prints: 1\n",
    "print(fruit_basket.index(\"cherry\"))  # Prints: 2\n",
    "\n",
    "print(fruit_basket[0])\n",
    "print(fruit_basket[1])\n",
    "print(fruit_basket[2])\n",
    "\n",
    "\n",
    "print(min(fruit_basket))  # sortowanie alfabetyczne\n"
   ]
  },
  {
   "cell_type": "markdown",
   "metadata": {},
   "source": [
    "#### MUTABILITY vs. IMMUTABILITY"
   ]
  },
  {
   "cell_type": "code",
   "execution_count": null,
   "metadata": {},
   "outputs": [
    {
     "name": "stdout",
     "output_type": "stream",
     "text": [
      "[1, 2, 3, 5, 8]\n",
      "[5, 2, 8, 1, 3]\n"
     ]
    }
   ],
   "source": [
    "# list są mutowalne\n",
    "# tuple nie są mutowalne\n",
    "\n",
    "\n",
    "# listę można modyfikować w ramach niej samej\n",
    "# id listy pozostaje to samo\n",
    "# elementy na liście zmieniają kolejność\n",
    "numbers = [5, 2, 8, 1, 3]\n",
    "print(id(numbers))\n",
    "print(numbers)\n",
    "\n",
    "numbers.sort()\n",
    "print(id(numbers))\n",
    "print(numbers)\n",
    "\n",
    "\n",
    "# tupli nie można modyfikować w ramach niej samej\n",
    "# trzeba stworzyć nową tuplę, która będzie już innym obiektem\n",
    "my_tuple = (5, 3, 1, 4, 2)\n",
    "print(f\"my_tuple {id(my_tuple)}\")\n",
    "sorted_tuple = sorted(my_tuple)\n",
    "print(f\"my_tuple {id(my_tuple)}\")\n",
    "\n",
    "print(f\"sorted_tuple {id(sorted_tuple)}\")\n",
    "print(sorted_tuple)\n",
    "print(my_tuple)\n",
    "\n",
    "\n",
    "# listy można sortować na dwa sposoby:\n",
    "# numbers.sort() - sortuje i zapisuje się w ramach tej samej zmiennej\n",
    "# sorted(numbers) - nie zmienia zmiennej numbers, wynik trzeba przypisać do nowej zmiennej\n",
    "numbers = [5, 2, 8, 1, 3]\n",
    "sorted_list = sorted(numbers)\n",
    "print(sorted_list)\n",
    "print(numbers)\n"
   ]
  },
  {
   "cell_type": "markdown",
   "metadata": {},
   "source": []
  },
  {
   "cell_type": "markdown",
   "metadata": {},
   "source": [
    "### Dictionary"
   ]
  },
  {
   "cell_type": "code",
   "execution_count": 12,
   "metadata": {},
   "outputs": [
    {
     "name": "stdout",
     "output_type": "stream",
     "text": [
      "<class 'dict'>\n",
      "John\n",
      "New York\n",
      "Chicago\n",
      "{'name': 'John', 'age': 18, 'city': 'Chicago'}\n",
      "{'name': 'John', 'age': 18, 'city': 'Chicago', 'country': 'USA'}\n",
      "{'name': 'John', 'age': 18, 'country': 'USA'}\n",
      "3\n",
      "dict_keys(['name', 'age', 'country'])\n",
      "dict_values(['John', 18, 'USA'])\n",
      "dict_items([('name', 'John'), ('age', 18), ('country', 'USA')])\n"
     ]
    }
   ],
   "source": [
    "my_dict={\n",
    "    \"name\": \"John\", \n",
    "    \"age\": 18, \n",
    "    \"city\":\"New York\",}\n",
    "print(type (my_dict))\n",
    "print(my_dict[\"name\"])\n",
    "print (my_dict[\"city\"])\n",
    "\n",
    "my_dict[\"city\"]=\"Chicago\" \n",
    "print (my_dict[\"city\"])\n",
    "\n",
    "print(my_dict)\n",
    "\n",
    "my_dict[\"country\"] = \"USA\"\n",
    "print(my_dict)\n",
    "\n",
    "del my_dict[\"city\"]\n",
    "print (my_dict)\n",
    "\n",
    "print(len(my_dict))\n",
    "\n",
    "print(my_dict.keys())\n",
    "print(my_dict.values())\n",
    "print(my_dict.items())"
   ]
  },
  {
   "cell_type": "markdown",
   "metadata": {},
   "source": [
    "### Set"
   ]
  },
  {
   "cell_type": "code",
   "execution_count": 23,
   "metadata": {},
   "outputs": [
    {
     "name": "stdout",
     "output_type": "stream",
     "text": [
      "{1, 2, 3, 4, 5}\n",
      "{1, 2, 3, 4, 5, 6}\n",
      "{1, 2, 3, 4, 5, 6, 7, 8, 9}\n",
      "{1, 2, 4, 5, 6, 7, 8, 9}\n"
     ]
    }
   ],
   "source": [
    "my_set = {1, 2, 3, 4, 5}\n",
    "print(my_set)\n",
    "\n",
    "type(my_set)\n",
    "\n",
    "my_set.add(6)\n",
    "my_set.add(5) #nie doda się 5 bo już jest na liście\n",
    "print(my_set)\n",
    "\n",
    "my_set.update({7,8,9})\n",
    "print(my_set)\n",
    "\n",
    "my_set.remove(3) #tylko jeden element można usunąć\n",
    "print(my_set)\n",
    "\n",
    "\n",
    "#cyfry mają swoje identyfikatory w pamięci i są zapisanw po kolei\n",
    "#print(id(3))\n",
    "#print(id(4))\n",
    "#print(id(5))\n"
   ]
  },
  {
   "cell_type": "code",
   "execution_count": 33,
   "metadata": {},
   "outputs": [
    {
     "name": "stdout",
     "output_type": "stream",
     "text": [
      "['banan', 'truskawka', 'kiwi', 'gruszka']\n"
     ]
    }
   ],
   "source": [
    "my_list= [\"banan\", \"jabłko\", \"pomarańcza\", \"truskawka\", \"kiwi\"]\n",
    "my_list.append (\"gruszka\")\n",
    "my_list.remove(\"jabłko\")\n",
    "my_list.remove(my_list[1]) #żeby usunąć dany element, jeśli nie znamy wartości\n",
    "print(my_list)"
   ]
  },
  {
   "cell_type": "markdown",
   "metadata": {},
   "source": [
    "### Operatory"
   ]
  },
  {
   "cell_type": "code",
   "execution_count": 41,
   "metadata": {},
   "outputs": [
    {
     "name": "stdout",
     "output_type": "stream",
     "text": [
      "True\n",
      "False\n",
      "<class 'bool'>\n",
      "False\n",
      "2.6666666666666665\n",
      "2\n",
      "True\n",
      "1\n",
      "False\n",
      "0\n"
     ]
    }
   ],
   "source": [
    "# Comparison\n",
    "print(10==10)\n",
    "print(10!=10)\n",
    "print (type(10==10))\n",
    "print (5==\"5\")\n",
    "\n",
    "#Arithmetic\n",
    "print(8/3)\n",
    "print(8//3)\n",
    "\n",
    "x = (1>10) or (1<10) # F or T --> True\n",
    "_x= 0 or 1\n",
    "\n",
    "\n",
    "y = (1>10) and (1<10) #F and T --> False\n",
    "_y= 0 and 1\n",
    "\n",
    "print(x)\n",
    "print(_x)\n",
    "print(y)\n",
    "print(_y)\n"
   ]
  },
  {
   "cell_type": "markdown",
   "metadata": {},
   "source": [
    "### Sterowanie kodem"
   ]
  },
  {
   "cell_type": "code",
   "execution_count": 42,
   "metadata": {},
   "outputs": [
    {
     "name": "stdout",
     "output_type": "stream",
     "text": [
      "Passed!\n"
     ]
    }
   ],
   "source": [
    "grade = 75\n",
    "\n",
    "if grade >= 50:\n",
    "    print(\"Passed!\")\n",
    "else:\n",
    "    print(\"Failed.\")"
   ]
  },
  {
   "cell_type": "code",
   "execution_count": null,
   "metadata": {},
   "outputs": [],
   "source": [
    "grade = 75\n",
    "\n",
    "if grade >= 90:\n",
    "    print(\"5\")\n",
    "elif grade >= 50 and grade < 90:\n",
    "    print(\"4\")\n",
    "elif grade >= 30 and grade < 50:\n",
    "    print(\"3\")\n",
    "else:\n",
    "    print(\"2\")"
   ]
  },
  {
   "cell_type": "markdown",
   "metadata": {},
   "source": [
    "### Pętle"
   ]
  },
  {
   "cell_type": "code",
   "execution_count": 56,
   "metadata": {},
   "outputs": [
    {
     "name": "stdout",
     "output_type": "stream",
     "text": [
      "1\n",
      "2\n",
      "3\n",
      "4\n",
      "5\n",
      "w\n",
      "a\n",
      "k\n",
      "a\n",
      "c\n",
      "j\n",
      "e\n",
      "saturday is weekend\n",
      "sunday is weekend\n"
     ]
    }
   ],
   "source": [
    "for number in [1,2,3,4,5]:\n",
    "    print(number)\n",
    "\n",
    "for ch in \"wakacje\":\n",
    "    print(ch)\n",
    "   \n",
    "\n",
    "week_days = [\"monday\", \"tuesday\", \"wednesday\", \"thursday\", \"friday\",]\n",
    "weekend_days = [\"saturday\", \"sunday\"]\n",
    "\n",
    "for day in week_days:\n",
    "for day in weekend_days:\n",
    "    if day in {\"saturday\", \"sunday\"}:\n",
    "        print(f\"{day} is weekend\")\n",
    "    else:\n",
    "        print(f\"{day} is a school day\")\n"
   ]
  },
  {
   "cell_type": "code",
   "execution_count": 58,
   "metadata": {},
   "outputs": [
    {
     "name": "stdout",
     "output_type": "stream",
     "text": [
      "0\n",
      "1\n",
      "2\n",
      "3\n",
      "4\n"
     ]
    }
   ],
   "source": [
    "for i in range(5):\n",
    "    print(i)"
   ]
  },
  {
   "cell_type": "code",
   "execution_count": 60,
   "metadata": {},
   "outputs": [
    {
     "name": "stdout",
     "output_type": "stream",
     "text": [
      "0\n",
      "1\n",
      "2\n",
      "3\n",
      "4\n"
     ]
    }
   ],
   "source": [
    "counter = 0\n",
    "\n",
    "while counter < 5:\n",
    "    print(counter)\n",
    "    counter += 1"
   ]
  },
  {
   "cell_type": "code",
   "execution_count": 61,
   "metadata": {},
   "outputs": [
    {
     "name": "stdout",
     "output_type": "stream",
     "text": [
      "5\n",
      "6\n",
      "7\n",
      "8\n",
      "9\n"
     ]
    }
   ],
   "source": [
    "for i in range(5, 10):\n",
    "    print(i)"
   ]
  },
  {
   "cell_type": "code",
   "execution_count": 63,
   "metadata": {},
   "outputs": [
    {
     "name": "stdout",
     "output_type": "stream",
     "text": [
      "8\n",
      "11\n",
      "14\n",
      "17\n",
      "20\n"
     ]
    }
   ],
   "source": [
    "a = 5\n",
    "while a < 20:\n",
    "    a += 3\n",
    "\n",
    "    print(a)"
   ]
  }
 ],
 "metadata": {
  "kernelspec": {
   "display_name": "Python 3",
   "language": "python",
   "name": "python3"
  },
  "language_info": {
   "codemirror_mode": {
    "name": "ipython",
    "version": 3
   },
   "file_extension": ".py",
   "mimetype": "text/x-python",
   "name": "python",
   "nbconvert_exporter": "python",
   "pygments_lexer": "ipython3",
   "version": "3.12.2"
  }
 },
 "nbformat": 4,
 "nbformat_minor": 2
}
